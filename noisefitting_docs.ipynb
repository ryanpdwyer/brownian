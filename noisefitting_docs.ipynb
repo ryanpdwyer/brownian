{
 "metadata": {
  "name": ""
 },
 "nbformat": 3,
 "nbformat_minor": 0,
 "worksheets": [
  {
   "cells": [
    {
     "cell_type": "markdown",
     "metadata": {},
     "source": [
      "See cantilever equations for full calculations of the spring constant. However, the result is listed below.\n",
      "\n",
      "$$k_c = \\frac{2 k_B T}{\\pi f_c Q P_x(0)}$$"
     ]
    },
    {
     "cell_type": "code",
     "collapsed": false,
     "input": [],
     "language": "python",
     "metadata": {},
     "outputs": []
    }
   ],
   "metadata": {}
  }
 ]
}